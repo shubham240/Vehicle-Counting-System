{
 "cells": [
  {
   "cell_type": "code",
   "execution_count": 1,
   "metadata": {},
   "outputs": [],
   "source": [
    "import cv2"
   ]
  },
  {
   "cell_type": "code",
   "execution_count": 2,
   "metadata": {},
   "outputs": [
    {
     "name": "stdout",
     "output_type": "stream",
     "text": [
      "Give Path of the Video\n",
      "Night Time Traffic Camera video.mp4\n",
      "Enter x1, y1, x2, y2 Coordinates\n",
      "x1 :1\n",
      "y1 :300\n",
      "x2 :1000\n",
      "y2 :300\n"
     ]
    }
   ],
   "source": [
    "#Here to Distinct the moving object we use absolute difference rather than KNN or MOG2 background\n",
    "#Subtracter as it gives beeter results than other two.\n",
    "\n",
    "print(\"Give Path of the Video\")\n",
    "path = input()\n",
    "\n",
    "print(\"Enter x1, y1, x2, y2 Coordinates\")\n",
    "x1 = input(\"x1 :\")\n",
    "x1 = int(x1)\n",
    "y1 = input(\"y1 :\")\n",
    "y1 = int(y1)\n",
    "x2 = input(\"x2 :\")\n",
    "x2 = int(x2)\n",
    "y2 = input(\"y2 :\")\n",
    "y2 = int(y2)"
   ]
  },
  {
   "cell_type": "code",
   "execution_count": 3,
   "metadata": {},
   "outputs": [],
   "source": [
    "VidCap = cv2.VideoCapture(path)\n",
    "ret, frame1 = VidCap.read()   #1st Frame\n",
    "\n",
    "frame_width = int(VidCap.get(3))\n",
    "frame_height = int(VidCap.get(4))\n",
    "   \n",
    "size = (frame_width, frame_height)\n",
    "result = cv2.VideoWriter('Ans4.avi',cv2.VideoWriter_fourcc(*'MJPG'), 10, size)\n",
    "\n",
    "vehicle = 0  #initialize count of vehicle = 0\n",
    "\n",
    "while VidCap.isOpened():\n",
    "    ret, frame2 = VidCap.read()  #2nd Frame\n",
    "    \n",
    "    if not ret:   #ret return false when video gets over.\n",
    "        break\n",
    "        \n",
    "    fgMask = cv2.absdiff(frame1, frame2)  #Using Absolute Difference.\n",
    "    fgMask = cv2.cvtColor(fgMask, cv2.COLOR_BGR2GRAY)  #Coverting to gray\n",
    "    _, thres = cv2.threshold(fgMask, 127, 255, cv2.THRESH_BINARY)  #Applying threshold to abs. diff\n",
    "    frame1 = frame2  #Swapping frames for video to continues running\n",
    "    \n",
    "    cv2.line(frame2, (x1, y1), (x2, y2), (0, 0, 255), 3)       #main Line\n",
    "    cv2.line(frame2, (x1, y1+10), (x2, y2+10), (0, 255, 0), 2) #offset Line\n",
    "    cv2.line(frame2, (x1, y1-10), (x2, y2-10), (0, 255, 0), 2) #offset line\n",
    "    \n",
    "    conts, _ = cv2.findContours(thres, cv2.RETR_LIST, cv2.CHAIN_APPROX_SIMPLE)\n",
    "    \n",
    "    for c in conts:\n",
    "        if cv2.contourArea(c) < 500:   #To Avoid noise.\n",
    "            continue\n",
    "        \n",
    "        x, y, w, h = cv2.boundingRect(c)  #Coordinates of Rectangle.\n",
    "        cv2.rectangle(fgMask, (x, y), (x+w, y+h), (0, 255, 0), 3)\n",
    "        xMid = int((x + (x+w))/2)  #Mid point of vehicle around x\n",
    "        yMid = int((y + (y+w))/2)  # Mid point of vehicle around y\n",
    "        cv2.circle(fgMask, (xMid, yMid), 5, (0, 0, 255), 5)\n",
    "        \n",
    "        if yMid > y1-10 and yMid < y1+10:\n",
    "            vehicle += 1\n",
    "            \n",
    "        cv2.imshow('Foreground Mask', fgMask)\n",
    "        cv2.putText(fgMask, 'Total Vehicle {}'.format(vehicle), (450, 50), cv2.FONT_HERSHEY_PLAIN, 2, (255, 255, 255), 2)\n",
    "        \n",
    "    if cv2.waitKey(1) & 0xFF == ord('q'):\n",
    "        break\n",
    "        \n",
    "cv2.destroyAllWindows()\n",
    "VidCap.release()\n",
    "result.release()"
   ]
  },
  {
   "cell_type": "code",
   "execution_count": null,
   "metadata": {},
   "outputs": [],
   "source": []
  }
 ],
 "metadata": {
  "kernelspec": {
   "display_name": "Python 3",
   "language": "python",
   "name": "python3"
  },
  "language_info": {
   "codemirror_mode": {
    "name": "ipython",
    "version": 3
   },
   "file_extension": ".py",
   "mimetype": "text/x-python",
   "name": "python",
   "nbconvert_exporter": "python",
   "pygments_lexer": "ipython3",
   "version": "3.8.5"
  }
 },
 "nbformat": 4,
 "nbformat_minor": 4
}
